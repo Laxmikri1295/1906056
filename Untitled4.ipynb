{
  "nbformat": 4,
  "nbformat_minor": 0,
  "metadata": {
    "colab": {
      "name": "Untitled4.ipynb",
      "provenance": [],
      "authorship_tag": "ABX9TyNf+f74ECI50/GZjcOgjlEC",
      "include_colab_link": true
    },
    "kernelspec": {
      "display_name": "Python 3",
      "name": "python3"
    },
    "language_info": {
      "name": "python"
    }
  },
  "cells": [
    {
      "cell_type": "markdown",
      "metadata": {
        "id": "view-in-github",
        "colab_type": "text"
      },
      "source": [
        "<a href=\"https://colab.research.google.com/github/Laxmikri1295/1906056/blob/master/Untitled4.ipynb\" target=\"_parent\"><img src=\"https://colab.research.google.com/assets/colab-badge.svg\" alt=\"Open In Colab\"/></a>"
      ]
    },
    {
      "cell_type": "code",
      "metadata": {
        "colab": {
          "base_uri": "https://localhost:8080/",
          "height": 0
        },
        "id": "Lo6RCFRofBOU",
        "outputId": "4e74b74d-daf0-4e4c-f239-bed22f00feed"
      },
      "source": [
        "from google.colab import drive\n",
        "drive.mount('/content/drive')"
      ],
      "execution_count": 5,
      "outputs": [
        {
          "output_type": "stream",
          "name": "stdout",
          "text": [
            "Mounted at /content/drive\n"
          ]
        }
      ]
    },
    {
      "cell_type": "code",
      "metadata": {
        "id": "qDwTcA0_hrYi"
      },
      "source": [
        "import tensorflow as tf"
      ],
      "execution_count": 6,
      "outputs": []
    },
    {
      "cell_type": "code",
      "metadata": {
        "id": "QvnnutaXhreK"
      },
      "source": [
        "\n",
        "from tensorflow.keras import models\n",
        "from tensorflow.keras import layers\n",
        "from tensorflow.keras.preprocessing.image import ImageDataGenerator\n",
        "import numpy as np\n",
        "import matplotlib.pyplot as plt\n",
        "image_size = (150,150,3)\n",
        "train='/content/drive/MyDrive/bear_images'"
      ],
      "execution_count": 7,
      "outputs": []
    },
    {
      "cell_type": "code",
      "metadata": {
        "colab": {
          "base_uri": "https://localhost:8080/",
          "height": 0
        },
        "id": "X7BOhqS8-oDI",
        "outputId": "3312012e-0da1-48cb-a775-cc702b9143f5"
      },
      "source": [
        "train_data = ImageDataGenerator(rescale=1./255)\n",
        "data = train_data.flow_from_directory(\n",
        "    train, \n",
        "    target_size=(150,150),\n",
        "    batch_size =50,\n",
        "    class_mode = 'binary'\n",
        "    )"
      ],
      "execution_count": 8,
      "outputs": [
        {
          "output_type": "stream",
          "name": "stdout",
          "text": [
            "Found 907 images belonging to 2 classes.\n"
          ]
        }
      ]
    },
    {
      "cell_type": "code",
      "metadata": {
        "id": "-_MI_7ZI-m3c"
      },
      "source": [
        ""
      ],
      "execution_count": null,
      "outputs": []
    },
    {
      "cell_type": "code",
      "metadata": {
        "id": "g8Dwi9lYhrhG",
        "colab": {
          "base_uri": "https://localhost:8080/",
          "height": 0
        },
        "outputId": "be543348-fa9e-4dce-d0a7-43db3c03ae36"
      },
      "source": [
        "from tensorflow import keras\n",
        "model = keras.applications.Xception(weights='imagenet',input_shape=(150,150,3), include_top=False)\n",
        "model.trainable=False"
      ],
      "execution_count": 9,
      "outputs": [
        {
          "output_type": "stream",
          "name": "stdout",
          "text": [
            "Downloading data from https://storage.googleapis.com/tensorflow/keras-applications/xception/xception_weights_tf_dim_ordering_tf_kernels_notop.h5\n",
            "83689472/83683744 [==============================] - 1s 0us/step\n",
            "83697664/83683744 [==============================] - 1s 0us/step\n"
          ]
        }
      ]
    },
    {
      "cell_type": "code",
      "metadata": {
        "id": "yUz4ng4Mz_f9"
      },
      "source": [
        "#transfer learning method\n",
        "model.trainable=False\n",
        "input=keras.Input(shape=(150,150,3))\n",
        "x = model(input, training=False)\n",
        "# Convert features of shape `base_model.output_shape[1:]` to vectors\n",
        "x = keras.layers.GlobalAveragePooling2D()(x)\n",
        "# A Dense classifier with a single unit (binary classification)\n",
        "outputs = keras.layers.Dense(1)(x)\n",
        "model = keras.Model(input, outputs)"
      ],
      "execution_count": 12,
      "outputs": []
    },
    {
      "cell_type": "code",
      "metadata": {
        "colab": {
          "base_uri": "https://localhost:8080/",
          "height": 0
        },
        "id": "S9YZiPHBz_vq",
        "outputId": "2440faa0-4c32-487c-bbf9-e6eea3b75373"
      },
      "source": [
        "model.compile(optimizer='adam', loss='binary_crossentropy',metrics=['accuracy'])\n",
        "history=model.fit(data,epochs=10 )"
      ],
      "execution_count": 17,
      "outputs": [
        {
          "output_type": "stream",
          "name": "stdout",
          "text": [
            "Epoch 1/10\n",
            "13/19 [===================>..........] - ETA: 25s - loss: 0.1606 - accuracy: 0.9720"
          ]
        },
        {
          "output_type": "stream",
          "name": "stderr",
          "text": [
            "/usr/local/lib/python3.7/dist-packages/PIL/Image.py:960: UserWarning: Palette images with Transparency expressed in bytes should be converted to RGBA images\n",
            "  \"Palette images with Transparency expressed in bytes should be \"\n"
          ]
        },
        {
          "output_type": "stream",
          "name": "stdout",
          "text": [
            "19/19 [==============================] - 140s 4s/step - loss: 0.1484 - accuracy: 0.9768\n",
            "Epoch 2/10\n",
            "19/19 [==============================] - 86s 4s/step - loss: 0.1153 - accuracy: 0.9912\n",
            "Epoch 3/10\n",
            "19/19 [==============================] - 85s 4s/step - loss: 0.1092 - accuracy: 0.9923\n",
            "Epoch 4/10\n",
            "19/19 [==============================] - 85s 4s/step - loss: 0.1055 - accuracy: 0.9923\n",
            "Epoch 5/10\n",
            "19/19 [==============================] - 86s 4s/step - loss: 0.1028 - accuracy: 0.9934\n",
            "Epoch 6/10\n",
            "19/19 [==============================] - 86s 4s/step - loss: 0.1022 - accuracy: 0.9934\n",
            "Epoch 7/10\n",
            "19/19 [==============================] - 86s 4s/step - loss: 0.1020 - accuracy: 0.9934\n",
            "Epoch 8/10\n",
            "19/19 [==============================] - 88s 5s/step - loss: 0.1020 - accuracy: 0.9934\n",
            "Epoch 9/10\n",
            "19/19 [==============================] - 88s 5s/step - loss: 0.1020 - accuracy: 0.9934\n",
            "Epoch 10/10\n",
            "19/19 [==============================] - 87s 5s/step - loss: 0.1017 - accuracy: 0.9934\n"
          ]
        }
      ]
    },
    {
      "cell_type": "code",
      "metadata": {
        "id": "EaQOV-09hrm6"
      },
      "source": [
        ""
      ],
      "execution_count": 17,
      "outputs": []
    },
    {
      "cell_type": "code",
      "metadata": {
        "id": "iVViIkMuhrpw",
        "colab": {
          "base_uri": "https://localhost:8080/",
          "height": 613
        },
        "outputId": "2a4fc468-fb7e-42ed-b508-0c66d0a12682"
      },
      "source": [
        "  import pandas as pd\n",
        "  import matplotlib.pyplot as plt \n",
        "  pd.DataFrame(history.history).plot(figsize=(10,10))\n",
        "  plt.grid()\n",
        "  plt.gca().set_ylim(0,1)"
      ],
      "execution_count": 18,
      "outputs": [
        {
          "output_type": "execute_result",
          "data": {
            "text/plain": [
              "(0.0, 1.0)"
            ]
          },
          "metadata": {},
          "execution_count": 18
        },
        {
          "output_type": "display_data",
          "data": {
            "image/png": "[encoded data removed]",
            "text/plain": [
              "<Figure size 720x720 with 1 Axes>"
            ]
          },
          "metadata": {
            "needs_background": "light"
          }
        }
      ]
    },
    {
      "cell_type": "code",
      "metadata": {
        "id": "e3UF5RS2hrtO"
      },
      "source": [
        ""
      ],
      "execution_count": null,
      "outputs": []
    }
  ]
}